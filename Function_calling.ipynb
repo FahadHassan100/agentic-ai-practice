{
  "nbformat": 4,
  "nbformat_minor": 0,
  "metadata": {
    "colab": {
      "provenance": [],
      "authorship_tag": "ABX9TyOfQytgK2w2FrNYkb9n5BXF"
    },
    "kernelspec": {
      "name": "python3",
      "display_name": "Python 3"
    },
    "language_info": {
      "name": "python"
    }
  },
  "cells": [
    {
      "cell_type": "code",
      "execution_count": null,
      "metadata": {
        "id": "6uBJ6I1tjX5r"
      },
      "outputs": [],
      "source": [
        "!pip install -q -U \"google-generativeai>=0.7.2\""
      ]
    },
    {
      "cell_type": "code",
      "source": [
        "from google.colab import userdata\n",
        "import google.generativeai as genai\n",
        "genai.configure(api_key=userdata.get('GOOGLE_API_KEY')"
      ],
      "metadata": {
        "id": "KAvZu3pEj9c9"
      },
      "execution_count": null,
      "outputs": []
    },
    {
      "cell_type": "markdown",
      "source": [
        "# Set up a Model with Tools"
      ],
      "metadata": {
        "id": "4pgUrSprkW4t"
      }
    },
    {
      "cell_type": "code",
      "source": [
        "def enable_lights():\n",
        "  \"\"\"Turn on the lighting system.\"\"\"\n",
        "  print(\"LIGHTBOT: Lights turned on.\")\n",
        "\n",
        "def set_light_color(reg_hex: str):\n",
        "  \"\"\"Set the light color. Lights must be enabled for this to work.\"\"\"\n",
        "  print(f\"LIGHTBOT: Lights set to {reg_hex}.\")\n",
        "\n",
        "def stop_lights(reg_hex: str):\n",
        "  \"\"\"Stop flashing lights\"\"\"\n",
        "  print(f\"LIGHTBOT: Lights turned off.\")\n",
        "\n",
        "\n",
        "light_controls = [enable_lights, set_light_color, stop_lights]\n",
        "instruction = \"You are a helpful lighting system bot. You can turn lights on and off, and you can set the color. Do not perform any other tasks.\"\n",
        "\n",
        "model = genai.GenerativeModel(\n",
        "    \"models/gemini-1.5-pro\",\n",
        "    tools=light_controls,\n",
        "    system_instruction=instruction\n",
        ")\n",
        "\n",
        "chat = model.start_chat()\n"
      ],
      "metadata": {
        "id": "vxEKLAHZkfWm"
      },
      "execution_count": null,
      "outputs": []
    },
    {
      "cell_type": "code",
      "source": [
        "from google.genrativeai.types import content_types\n",
        "from collections.abc import Iterable\n",
        "\n",
        "def tool_config_from_mode(mode: str, fns: Iterable[str] = ()):\n",
        "  \"\"\"Create a tool config with the specified function calling mode.\"\"\"\n",
        "  return content_types.to_tool_config(\n",
        "      {\"function_calling_config\": {\"mode\": mode, \"allowed_function_names\": fns}}\n",
        "  )"
      ],
      "metadata": {
        "id": "pwh9opBDQyja"
      },
      "execution_count": null,
      "outputs": []
    },
    {
      "cell_type": "code",
      "source": [
        "tool_config = tool_config_from_mode(\"none\")\n",
        "\n",
        "response = chat.send_message(\"Hello light-bot, what can you do?\", tool_config=tool_config)\n",
        "print(response.text)"
      ],
      "metadata": {
        "id": "P4SXpeD5VDBE"
      },
      "execution_count": null,
      "outputs": []
    },
    {
      "cell_type": "code",
      "source": [
        "response.parts[0]"
      ],
      "metadata": {
        "id": "epakKvvSViLr"
      },
      "execution_count": null,
      "outputs": []
    },
    {
      "cell_type": "code",
      "source": [
        "available_fns = [\"set_light_color\", \"stop_lights\"]\n",
        "\n",
        "tool_config = tool_config_from_mode(\"any\", available_fns)\n",
        "\n",
        "response = chat.send_message(\"Make this place PURPLE!\", tool_config=tool_config)\n"
      ],
      "metadata": {
        "id": "-KKoIWXyVtFe"
      },
      "execution_count": null,
      "outputs": []
    },
    {
      "cell_type": "code",
      "source": [
        "print(response.parts)"
      ],
      "metadata": {
        "id": "nwDNocUBWyba"
      },
      "execution_count": null,
      "outputs": []
    },
    {
      "cell_type": "markdown",
      "source": [
        "# Automatic function calling"
      ],
      "metadata": {
        "id": "Jd6vj6fYX-ta"
      }
    },
    {
      "cell_type": "code",
      "source": [
        "available_fns = [\"enable_lights\"]\n",
        "tool_config = tool_config_from_mode(\"auto\", available_fns)\n",
        "\n",
        "auto_chat = model.start_chat(enable_automatic_function_calling=True)\n",
        "res = auto_chat.send_message(\"It's awful dark in here...\", took_config=tool_config)"
      ],
      "metadata": {
        "id": "wk05CsE8YFIe"
      },
      "execution_count": null,
      "outputs": []
    },
    {
      "cell_type": "code",
      "source": [
        "auto_chat = model.start_chat(enable_automatic_function_calling=True)\n",
        "res = auto_chat.send_message(\"It's awful dark in here - make it Orange and then switch off lights\", took_config=tool_config)"
      ],
      "metadata": {
        "id": "LbnwnicSZowz"
      },
      "execution_count": null,
      "outputs": []
    },
    {
      "cell_type": "code",
      "source": [
        "res"
      ],
      "metadata": {
        "id": "3JQt9XX1Y64C"
      },
      "execution_count": null,
      "outputs": []
    },
    {
      "cell_type": "code",
      "source": [
        "def set_light_values(brightness, color_temp):\n",
        "  \"\"\"Set the brightness and color temperature of a room light. (mock API).\n",
        "\n",
        "  Arg:\n",
        "      brightness: Light level from 0 to 100. Zero is off and 100 is full brightness\n",
        "      color_temp: Color temperature of the light fixture, which can be 'daylight', 'cool' or 'warm'\n",
        "\n",
        "  Returns:\n",
        "      A dictionary containing the set of brightness and color temperature\n",
        "  \"\"\"\n",
        "  return {\"brightness\": brightness, \"colorTemperature\": color_temp}"
      ],
      "metadata": {
        "id": "lb50zi7taZm9"
      },
      "execution_count": null,
      "outputs": []
    }
  ]
}