{
  "nbformat": 4,
  "nbformat_minor": 0,
  "metadata": {
    "colab": {
      "provenance": [],
      "authorship_tag": "ABX9TyNAxq8tRxIJQ7dyijstFZzj"
    },
    "kernelspec": {
      "name": "python3",
      "display_name": "Python 3"
    },
    "language_info": {
      "name": "python"
    }
  },
  "cells": [
    {
      "cell_type": "code",
      "execution_count": null,
      "metadata": {
        "id": "HLl5b-MRDJ-z"
      },
      "outputs": [],
      "source": [
        "!pip install -U -q \"google-generativeai>=0.7.2\""
      ]
    },
    {
      "cell_type": "code",
      "source": [
        "import google.generativeai as genai"
      ],
      "metadata": {
        "id": "rjTsHIneDufu"
      },
      "execution_count": null,
      "outputs": []
    },
    {
      "cell_type": "code",
      "source": [
        "from google.colab import userdata\n",
        "GOOGLE_API_KEY = userdata.get('GOOGLE_API_KEY')\n",
        "genai.configure(api_key=GOOGLE_API_KEY)"
      ],
      "metadata": {
        "id": "z5byGv5nDd1Q"
      },
      "execution_count": null,
      "outputs": []
    },
    {
      "cell_type": "code",
      "source": [
        "model = genai.GenerativeModel(\"gemini-1.5-flash\")"
      ],
      "metadata": {
        "id": "kAJbihoUFIgV"
      },
      "execution_count": null,
      "outputs": []
    },
    {
      "cell_type": "code",
      "source": [
        "response = model.generate_content(\"Hi, I am learning Agentic AI, kindly assist me.\")\n",
        "print(response.text)"
      ],
      "metadata": {
        "colab": {
          "base_uri": "https://localhost:8080/",
          "height": 349
        },
        "id": "9on0IIMPFHzm",
        "outputId": "4d82ada1-d557-4ec2-eb69-2150f3d0523d"
      },
      "execution_count": null,
      "outputs": [
        {
          "output_type": "stream",
          "name": "stdout",
          "text": [
            "Let's explore Agentic AI! To best assist you, I need some more information about what aspects you're struggling with or interested in learning.  Agentic AI is a broad field, so focusing your questions will be helpful.  For example, are you interested in:\n",
            "\n",
            "* **Specific techniques:**  Reinforcement learning (RL), inverse reinforcement learning (IRL), imitation learning, evolutionary algorithms, planning algorithms (e.g., A*, Monte Carlo Tree Search), etc.?\n",
            "* **Architectural choices:**  How to structure an agent's architecture (e.g., modularity, hierarchical structures)?  What types of neural networks are commonly used (e.g., CNNs, RNNs, Transformers)?\n",
            "* **Environments:**  Simulations (e.g., game environments like Atari, MuJoCo), real-world robotics, or other domains?\n",
            "* **Challenges:**  Reward shaping, exploration vs. exploitation, sample efficiency, transfer learning, robustness, safety, ethical considerations?\n",
            "* **Specific frameworks/libraries:**  PyTorch, TensorFlow, Stable Baselines3, Ray RLlib?\n",
            "* **Applications:**  Robotics, game playing, resource management, personalized recommendations, etc.?\n",
            "\n",
            "Once you tell me what aspects of Agentic AI you'd like to focus on, I can provide more targeted assistance.  We can explore:\n",
            "\n",
            "* **Conceptual understanding:**  Explaining core concepts and algorithms.\n",
            "* **Practical implementation:**  Discussing code examples and debugging issues.\n",
            "* **Resource recommendations:**  Suggesting relevant papers, books, tutorials, and online courses.\n",
            "* **Problem-solving:**  Helping you tackle specific challenges in your projects.\n",
            "\n",
            "Let's start learning! Tell me what you want to know.\n",
            "\n"
          ]
        }
      ]
    },
    {
      "cell_type": "code",
      "source": [
        "print(response)"
      ],
      "metadata": {
        "colab": {
          "base_uri": "https://localhost:8080/"
        },
        "id": "c9SehuWdF9yK",
        "outputId": "2721d9fb-3462-4ece-8f65-812edaf5beb8"
      },
      "execution_count": null,
      "outputs": [
        {
          "output_type": "stream",
          "name": "stdout",
          "text": [
            "response:\n",
            "GenerateContentResponse(\n",
            "    done=True,\n",
            "    iterator=None,\n",
            "    result=protos.GenerateContentResponse({\n",
            "      \"candidates\": [\n",
            "        {\n",
            "          \"content\": {\n",
            "            \"parts\": [\n",
            "              {\n",
            "                \"text\": \"Let's explore Agentic AI! To best assist you, I need some more information about what aspects you're struggling with or interested in learning.  Agentic AI is a broad field, so focusing your questions will be helpful.  For example, are you interested in:\\n\\n* **Specific techniques:**  Reinforcement learning (RL), inverse reinforcement learning (IRL), imitation learning, evolutionary algorithms, planning algorithms (e.g., A*, Monte Carlo Tree Search), etc.?\\n* **Architectural choices:**  How to structure an agent's architecture (e.g., modularity, hierarchical structures)?  What types of neural networks are commonly used (e.g., CNNs, RNNs, Transformers)?\\n* **Environments:**  Simulations (e.g., game environments like Atari, MuJoCo), real-world robotics, or other domains?\\n* **Challenges:**  Reward shaping, exploration vs. exploitation, sample efficiency, transfer learning, robustness, safety, ethical considerations?\\n* **Specific frameworks/libraries:**  PyTorch, TensorFlow, Stable Baselines3, Ray RLlib?\\n* **Applications:**  Robotics, game playing, resource management, personalized recommendations, etc.?\\n\\nOnce you tell me what aspects of Agentic AI you'd like to focus on, I can provide more targeted assistance.  We can explore:\\n\\n* **Conceptual understanding:**  Explaining core concepts and algorithms.\\n* **Practical implementation:**  Discussing code examples and debugging issues.\\n* **Resource recommendations:**  Suggesting relevant papers, books, tutorials, and online courses.\\n* **Problem-solving:**  Helping you tackle specific challenges in your projects.\\n\\nLet's start learning! Tell me what you want to know.\\n\"\n",
            "              }\n",
            "            ],\n",
            "            \"role\": \"model\"\n",
            "          },\n",
            "          \"finish_reason\": \"STOP\",\n",
            "          \"avg_logprobs\": -0.25053174760606556\n",
            "        }\n",
            "      ],\n",
            "      \"usage_metadata\": {\n",
            "        \"prompt_token_count\": 14,\n",
            "        \"candidates_token_count\": 360,\n",
            "        \"total_token_count\": 374\n",
            "      }\n",
            "    }),\n",
            ")\n"
          ]
        }
      ]
    },
    {
      "cell_type": "markdown",
      "source": [
        "**Use images for prompting**\n",
        "\n",
        "Here you will download an image from url and pass in our prompting\n",
        "\n",
        "First donwload an image and load with PIL:"
      ],
      "metadata": {
        "id": "Kf2zuIoSHbnO"
      }
    },
    {
      "cell_type": "code",
      "source": [
        "!curl -o image.jpg \"https://storage.googleapis.com/generativeai-downloads/images/jetpack.jpg\""
      ],
      "metadata": {
        "colab": {
          "base_uri": "https://localhost:8080/"
        },
        "id": "NtRFmwJ4H5by",
        "outputId": "8261bf33-8296-4166-8462-a61abfc70997"
      },
      "execution_count": null,
      "outputs": [
        {
          "output_type": "stream",
          "name": "stdout",
          "text": [
            "  % Total    % Received % Xferd  Average Speed   Time    Time     Time  Current\n",
            "                                 Dload  Upload   Total   Spent    Left  Speed\n",
            "100  349k  100  349k    0     0  1723k      0 --:--:-- --:--:-- --:--:-- 1720k\n"
          ]
        }
      ]
    },
    {
      "cell_type": "code",
      "source": [
        "import PIL.Image\n",
        "img = PIL.Image.open(\"image.jpg\")\n",
        "#img"
      ],
      "metadata": {
        "id": "VVuk1Fy4G_A7"
      },
      "execution_count": null,
      "outputs": []
    },
    {
      "cell_type": "code",
      "source": [
        "prompt = \"\"\"This image contains a sketch of a potential product alone with some notes.\n",
        "Give the product sketch, describe the product as thoroughly as  possible based on what you see in the image, making sure to note all of the\n",
        "product features. Return output in json format:{description: description, features: [feature1, feature2, feature3, etc]}\"\"\""
      ],
      "metadata": {
        "id": "bqT4Xxe7I201"
      },
      "execution_count": null,
      "outputs": []
    },
    {
      "cell_type": "code",
      "source": [
        "model = genai.GenerativeModel(\"gemini-1.5-flash\")\n",
        "response = model.generate_content(prompt, image=img)\n",
        "print(response.text)"
      ],
      "metadata": {
        "id": "HJuMOY3gKThC"
      },
      "execution_count": null,
      "outputs": []
    },
    {
      "cell_type": "markdown",
      "source": [
        "**Start Chat with model**\n",
        "\n",
        "you can chat with model for conversation and memory will save in chat and answer will be on context.\n",
        "\n",
        "The ChatSession will store in conversation history for multi-turn interactions."
      ],
      "metadata": {
        "id": "UJKuvUXpKuGU"
      }
    },
    {
      "cell_type": "code",
      "source": [
        "model = genai.GenerativeModel(\"gemini-1.5-flash\")\n",
        "chat = model.start_chat(history=[])"
      ],
      "metadata": {
        "id": "TuvzGIecLo2v"
      },
      "execution_count": null,
      "outputs": []
    },
    {
      "cell_type": "code",
      "source": [
        "response = chat.send_message(\"Hi, I am learning Agentic AI, kindly assist me.\")\n",
        "print(response.text)"
      ],
      "metadata": {
        "id": "u8_yyZElLHzv"
      },
      "execution_count": null,
      "outputs": []
    },
    {
      "cell_type": "code",
      "source": [
        "print(chat.history)"
      ],
      "metadata": {
        "id": "kQmKhevTIyz5"
      },
      "execution_count": null,
      "outputs": []
    },
    {
      "cell_type": "markdown",
      "source": [
        "**Set the temperature**\n",
        "\n",
        "we can configure model for complition."
      ],
      "metadata": {
        "id": "LWsxabX1Mf8B"
      }
    },
    {
      "cell_type": "code",
      "source": [
        "model = genai.GenerativeModel(\"gemini-1.5-flash\",\n",
        "                              generation_config=genai.GenerationConfig(\n",
        "                                  max_output_tokens=2000,\n",
        "                                  temperature=0.9\n",
        "                              ))"
      ],
      "metadata": {
        "id": "4OtOkYHIMtdI"
      },
      "execution_count": null,
      "outputs": []
    }
  ]
}